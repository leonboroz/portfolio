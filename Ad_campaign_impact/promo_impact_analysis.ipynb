{
 "cells": [
  {
   "cell_type": "code",
   "execution_count": 77,
   "id": "bd8f29a5",
   "metadata": {},
   "outputs": [],
   "source": [
    "from scipy.stats import norm\n",
    "import numpy as np\n",
    "import matplotlib.pyplot as plt\n",
    "import seaborn as sns\n",
    "import pandas as pd\n",
    "from scipy.stats import ttest_ind, mannwhitneyu"
   ]
  },
  {
   "cell_type": "code",
   "execution_count": 78,
   "id": "dfa8a706",
   "metadata": {},
   "outputs": [],
   "source": [
    "q = [0.1,0.25,0.3,0.4,0.5,0.6,0.75,0.9,0.91,0.92,0.93,0.94,0.95,0.96,0.97,0.98,0.99,0.995]"
   ]
  },
  {
   "cell_type": "code",
   "execution_count": 79,
   "id": "0008fdf8",
   "metadata": {},
   "outputs": [],
   "source": [
    "def statistical_analysis (r, q ):\n",
    "    if (type(r) is not list) & (type(r) is not tuple):\n",
    "        print('Нужен список или кортеж')\n",
    "        return\n",
    "    \n",
    "    if len(r)<4:\n",
    "        print('Нужно больше наблюдений')\n",
    "        return\n",
    "    \n",
    "    r=pd.Series(r)\n",
    "    \n",
    "    m = r.mean()\n",
    "    v=r.var()\n",
    "    s = r.std()\n",
    "    \n",
    "    print ('Среднее значение  ряда равно',m)\n",
    "    print ('Дисперсия ряда равна',v)\n",
    "    print ('Стандартное отклонение ряда составляет',s)\n",
    "    print()\n",
    "    \n",
    "    qs = np.quantile(r,q)\n",
    "    \n",
    "    for i in range(len(q)):\n",
    "        if q[i]==0.5:\n",
    "            print(\"Mediane=\",qs[i])\n",
    "        elif q[i]==0.25:\n",
    "            print(\"First quantile =\", qs[i])\n",
    "        elif q[i]==0.75:\n",
    "            print(\"Third quantile =\", qs[i])\n",
    "        elif q[i]*100 % 10==0:\n",
    "            print(\"Decile number\", q[i]*10,\"=\",qs[i])\n",
    "        else:\n",
    "            print('Quantile',q[i],'=',qs[i])\n",
    "    \n",
    "    sns.histplot(data=r)\n",
    "    \n",
    "    return  m, v, s, qs\n",
    "        "
   ]
  },
  {
   "cell_type": "code",
   "execution_count": 80,
   "id": "70a89c02",
   "metadata": {},
   "outputs": [],
   "source": [
    "def test_calc(r1,r2,alpha=0.05):\n",
    "    s,p =ttest_ind(r1,r2)\n",
    "    \n",
    "    if p< alpha:\n",
    "        print(\"Гипотеза Н0 не подверждена:средние равны\")\n",
    "        print (\"Разница средних = \",r1.mean()-r2.mean())\n",
    "    else:\n",
    "        print(\"Гипотеза Н0 подтверждается:средние равны\")\n",
    "        print(\"Разница средних = 0\")\n",
    "    return s,p"
   ]
  },
  {
   "cell_type": "code",
   "execution_count": 81,
   "id": "4848a0ed",
   "metadata": {},
   "outputs": [],
   "source": [
    "def mann_whitney_func( r1, r2, alpha =.05):\n",
    "    \n",
    "    s,p =mannwhitneyu (r1, r2)   \n",
    "    \n",
    "    if p < alpha:\n",
    "        print(\"Распределения не равны\")\n",
    "    else:\n",
    "        print(\"Распределения равны\")\n",
    "    return s, p\n",
    "        \n"
   ]
  },
  {
   "cell_type": "code",
   "execution_count": 82,
   "id": "f4d54755",
   "metadata": {},
   "outputs": [
    {
     "data": {
      "text/html": [
       "<div>\n",
       "<style scoped>\n",
       "    .dataframe tbody tr th:only-of-type {\n",
       "        vertical-align: middle;\n",
       "    }\n",
       "\n",
       "    .dataframe tbody tr th {\n",
       "        vertical-align: top;\n",
       "    }\n",
       "\n",
       "    .dataframe thead th {\n",
       "        text-align: right;\n",
       "    }\n",
       "</style>\n",
       "<table border=\"1\" class=\"dataframe\">\n",
       "  <thead>\n",
       "    <tr style=\"text-align: right;\">\n",
       "      <th></th>\n",
       "      <th>id_client</th>\n",
       "      <th>id_group</th>\n",
       "      <th>sum_pay</th>\n",
       "      <th>id_point</th>\n",
       "      <th>months_reg</th>\n",
       "    </tr>\n",
       "  </thead>\n",
       "  <tbody>\n",
       "    <tr>\n",
       "      <th>0</th>\n",
       "      <td>1420218</td>\n",
       "      <td>test</td>\n",
       "      <td>3288.0</td>\n",
       "      <td>1199.0</td>\n",
       "      <td>8</td>\n",
       "    </tr>\n",
       "    <tr>\n",
       "      <th>1</th>\n",
       "      <td>1390221</td>\n",
       "      <td>control</td>\n",
       "      <td>1267.0</td>\n",
       "      <td>1182.0</td>\n",
       "      <td>11</td>\n",
       "    </tr>\n",
       "    <tr>\n",
       "      <th>2</th>\n",
       "      <td>1363404</td>\n",
       "      <td>control</td>\n",
       "      <td>4259.0</td>\n",
       "      <td>1178.0</td>\n",
       "      <td>2</td>\n",
       "    </tr>\n",
       "    <tr>\n",
       "      <th>3</th>\n",
       "      <td>1370042</td>\n",
       "      <td>test</td>\n",
       "      <td>7211.0</td>\n",
       "      <td>1179.0</td>\n",
       "      <td>3</td>\n",
       "    </tr>\n",
       "    <tr>\n",
       "      <th>4</th>\n",
       "      <td>1360376</td>\n",
       "      <td>control</td>\n",
       "      <td>760.0</td>\n",
       "      <td>1178.0</td>\n",
       "      <td>14</td>\n",
       "    </tr>\n",
       "  </tbody>\n",
       "</table>\n",
       "</div>"
      ],
      "text/plain": [
       "   id_client id_group  sum_pay  id_point  months_reg\n",
       "0    1420218     test   3288.0    1199.0           8\n",
       "1    1390221  control   1267.0    1182.0          11\n",
       "2    1363404  control   4259.0    1178.0           2\n",
       "3    1370042     test   7211.0    1179.0           3\n",
       "4    1360376  control    760.0    1178.0          14"
      ]
     },
     "execution_count": 82,
     "metadata": {},
     "output_type": "execute_result"
    }
   ],
   "source": [
    "df = pd.read_csv('Dataset_AB_TEST.csv', sep = ';')\n",
    "df.head()"
   ]
  },
  {
   "cell_type": "code",
   "execution_count": 83,
   "id": "81e6a20d",
   "metadata": {},
   "outputs": [
    {
     "data": {
      "text/html": [
       "<div>\n",
       "<style scoped>\n",
       "    .dataframe tbody tr th:only-of-type {\n",
       "        vertical-align: middle;\n",
       "    }\n",
       "\n",
       "    .dataframe tbody tr th {\n",
       "        vertical-align: top;\n",
       "    }\n",
       "\n",
       "    .dataframe thead th {\n",
       "        text-align: right;\n",
       "    }\n",
       "</style>\n",
       "<table border=\"1\" class=\"dataframe\">\n",
       "  <thead>\n",
       "    <tr style=\"text-align: right;\">\n",
       "      <th></th>\n",
       "      <th>id_client</th>\n",
       "      <th>sum_pay</th>\n",
       "      <th>id_point</th>\n",
       "      <th>months_reg</th>\n",
       "    </tr>\n",
       "  </thead>\n",
       "  <tbody>\n",
       "    <tr>\n",
       "      <th>count</th>\n",
       "      <td>1.097600e+04</td>\n",
       "      <td>10849.000000</td>\n",
       "      <td>10895.000000</td>\n",
       "      <td>10976.000000</td>\n",
       "    </tr>\n",
       "    <tr>\n",
       "      <th>mean</th>\n",
       "      <td>1.373018e+06</td>\n",
       "      <td>3568.751037</td>\n",
       "      <td>1180.040385</td>\n",
       "      <td>4.717566</td>\n",
       "    </tr>\n",
       "    <tr>\n",
       "      <th>std</th>\n",
       "      <td>1.477359e+04</td>\n",
       "      <td>2927.164583</td>\n",
       "      <td>4.345107</td>\n",
       "      <td>3.185566</td>\n",
       "    </tr>\n",
       "    <tr>\n",
       "      <th>min</th>\n",
       "      <td>1.359000e+06</td>\n",
       "      <td>59.000000</td>\n",
       "      <td>1178.000000</td>\n",
       "      <td>0.000000</td>\n",
       "    </tr>\n",
       "    <tr>\n",
       "      <th>25%</th>\n",
       "      <td>1.361744e+06</td>\n",
       "      <td>1251.000000</td>\n",
       "      <td>1178.000000</td>\n",
       "      <td>2.000000</td>\n",
       "    </tr>\n",
       "    <tr>\n",
       "      <th>50%</th>\n",
       "      <td>1.370690e+06</td>\n",
       "      <td>3173.000000</td>\n",
       "      <td>1179.000000</td>\n",
       "      <td>4.000000</td>\n",
       "    </tr>\n",
       "    <tr>\n",
       "      <th>75%</th>\n",
       "      <td>1.373433e+06</td>\n",
       "      <td>5358.000000</td>\n",
       "      <td>1179.000000</td>\n",
       "      <td>7.000000</td>\n",
       "    </tr>\n",
       "    <tr>\n",
       "      <th>max</th>\n",
       "      <td>1.420345e+06</td>\n",
       "      <td>24797.000000</td>\n",
       "      <td>1199.000000</td>\n",
       "      <td>14.000000</td>\n",
       "    </tr>\n",
       "  </tbody>\n",
       "</table>\n",
       "</div>"
      ],
      "text/plain": [
       "          id_client       sum_pay      id_point    months_reg\n",
       "count  1.097600e+04  10849.000000  10895.000000  10976.000000\n",
       "mean   1.373018e+06   3568.751037   1180.040385      4.717566\n",
       "std    1.477359e+04   2927.164583      4.345107      3.185566\n",
       "min    1.359000e+06     59.000000   1178.000000      0.000000\n",
       "25%    1.361744e+06   1251.000000   1178.000000      2.000000\n",
       "50%    1.370690e+06   3173.000000   1179.000000      4.000000\n",
       "75%    1.373433e+06   5358.000000   1179.000000      7.000000\n",
       "max    1.420345e+06  24797.000000   1199.000000     14.000000"
      ]
     },
     "execution_count": 83,
     "metadata": {},
     "output_type": "execute_result"
    }
   ],
   "source": [
    "df.describe()"
   ]
  },
  {
   "cell_type": "code",
   "execution_count": 84,
   "id": "9ddc134a",
   "metadata": {},
   "outputs": [
    {
     "data": {
      "text/html": [
       "<div>\n",
       "<style scoped>\n",
       "    .dataframe tbody tr th:only-of-type {\n",
       "        vertical-align: middle;\n",
       "    }\n",
       "\n",
       "    .dataframe tbody tr th {\n",
       "        vertical-align: top;\n",
       "    }\n",
       "\n",
       "    .dataframe thead th {\n",
       "        text-align: right;\n",
       "    }\n",
       "</style>\n",
       "<table border=\"1\" class=\"dataframe\">\n",
       "  <thead>\n",
       "    <tr style=\"text-align: right;\">\n",
       "      <th></th>\n",
       "      <th>id_client</th>\n",
       "      <th>sum_pay</th>\n",
       "      <th>id_point</th>\n",
       "      <th>months_reg</th>\n",
       "    </tr>\n",
       "    <tr>\n",
       "      <th>id_group</th>\n",
       "      <th></th>\n",
       "      <th></th>\n",
       "      <th></th>\n",
       "      <th></th>\n",
       "    </tr>\n",
       "  </thead>\n",
       "  <tbody>\n",
       "    <tr>\n",
       "      <th>control</th>\n",
       "      <td>5202</td>\n",
       "      <td>5175</td>\n",
       "      <td>5198</td>\n",
       "      <td>5202</td>\n",
       "    </tr>\n",
       "    <tr>\n",
       "      <th>test</th>\n",
       "      <td>5700</td>\n",
       "      <td>5673</td>\n",
       "      <td>5696</td>\n",
       "      <td>5700</td>\n",
       "    </tr>\n",
       "  </tbody>\n",
       "</table>\n",
       "</div>"
      ],
      "text/plain": [
       "          id_client  sum_pay  id_point  months_reg\n",
       "id_group                                          \n",
       "control        5202     5175      5198        5202\n",
       "test           5700     5673      5696        5700"
      ]
     },
     "execution_count": 84,
     "metadata": {},
     "output_type": "execute_result"
    }
   ],
   "source": [
    "df.groupby('id_group').count()"
   ]
  },
  {
   "cell_type": "code",
   "execution_count": 85,
   "id": "9dab0146",
   "metadata": {},
   "outputs": [
    {
     "data": {
      "text/plain": [
       "74"
      ]
     },
     "execution_count": 85,
     "metadata": {},
     "output_type": "execute_result"
    }
   ],
   "source": [
    "len(df[df['id_group'].isnull()])"
   ]
  },
  {
   "cell_type": "code",
   "execution_count": 86,
   "id": "7cbfcea7",
   "metadata": {},
   "outputs": [
    {
     "data": {
      "text/plain": [
       "127"
      ]
     },
     "execution_count": 86,
     "metadata": {},
     "output_type": "execute_result"
    }
   ],
   "source": [
    "len(df[df['sum_pay'].isnull()])"
   ]
  },
  {
   "cell_type": "code",
   "execution_count": 87,
   "id": "50742571",
   "metadata": {},
   "outputs": [
    {
     "data": {
      "text/plain": [
       "81"
      ]
     },
     "execution_count": 87,
     "metadata": {},
     "output_type": "execute_result"
    }
   ],
   "source": [
    "len(df[df['id_point'].isnull()])"
   ]
  },
  {
   "cell_type": "code",
   "execution_count": 88,
   "id": "29bc69e6",
   "metadata": {},
   "outputs": [
    {
     "data": {
      "text/html": [
       "<div>\n",
       "<style scoped>\n",
       "    .dataframe tbody tr th:only-of-type {\n",
       "        vertical-align: middle;\n",
       "    }\n",
       "\n",
       "    .dataframe tbody tr th {\n",
       "        vertical-align: top;\n",
       "    }\n",
       "\n",
       "    .dataframe thead th {\n",
       "        text-align: right;\n",
       "    }\n",
       "</style>\n",
       "<table border=\"1\" class=\"dataframe\">\n",
       "  <thead>\n",
       "    <tr style=\"text-align: right;\">\n",
       "      <th></th>\n",
       "      <th>id_client</th>\n",
       "      <th>id_group</th>\n",
       "      <th>sum_pay</th>\n",
       "      <th>id_point</th>\n",
       "      <th>months_reg</th>\n",
       "    </tr>\n",
       "  </thead>\n",
       "  <tbody>\n",
       "    <tr>\n",
       "      <th>0</th>\n",
       "      <td>1420218</td>\n",
       "      <td>test</td>\n",
       "      <td>3288.0</td>\n",
       "      <td>1199.0</td>\n",
       "      <td>8</td>\n",
       "    </tr>\n",
       "    <tr>\n",
       "      <th>1</th>\n",
       "      <td>1390221</td>\n",
       "      <td>control</td>\n",
       "      <td>1267.0</td>\n",
       "      <td>1182.0</td>\n",
       "      <td>11</td>\n",
       "    </tr>\n",
       "    <tr>\n",
       "      <th>2</th>\n",
       "      <td>1363404</td>\n",
       "      <td>control</td>\n",
       "      <td>4259.0</td>\n",
       "      <td>1178.0</td>\n",
       "      <td>2</td>\n",
       "    </tr>\n",
       "    <tr>\n",
       "      <th>3</th>\n",
       "      <td>1370042</td>\n",
       "      <td>test</td>\n",
       "      <td>7211.0</td>\n",
       "      <td>1179.0</td>\n",
       "      <td>3</td>\n",
       "    </tr>\n",
       "    <tr>\n",
       "      <th>4</th>\n",
       "      <td>1360376</td>\n",
       "      <td>control</td>\n",
       "      <td>760.0</td>\n",
       "      <td>1178.0</td>\n",
       "      <td>14</td>\n",
       "    </tr>\n",
       "    <tr>\n",
       "      <th>...</th>\n",
       "      <td>...</td>\n",
       "      <td>...</td>\n",
       "      <td>...</td>\n",
       "      <td>...</td>\n",
       "      <td>...</td>\n",
       "    </tr>\n",
       "    <tr>\n",
       "      <th>10971</th>\n",
       "      <td>1359021</td>\n",
       "      <td>control</td>\n",
       "      <td>799.0</td>\n",
       "      <td>1178.0</td>\n",
       "      <td>3</td>\n",
       "    </tr>\n",
       "    <tr>\n",
       "      <th>10972</th>\n",
       "      <td>1363347</td>\n",
       "      <td>control</td>\n",
       "      <td>4825.0</td>\n",
       "      <td>1178.0</td>\n",
       "      <td>6</td>\n",
       "    </tr>\n",
       "    <tr>\n",
       "      <th>10973</th>\n",
       "      <td>1373031</td>\n",
       "      <td>test</td>\n",
       "      <td>673.0</td>\n",
       "      <td>1179.0</td>\n",
       "      <td>1</td>\n",
       "    </tr>\n",
       "    <tr>\n",
       "      <th>10974</th>\n",
       "      <td>1370292</td>\n",
       "      <td>test</td>\n",
       "      <td>1120.0</td>\n",
       "      <td>1179.0</td>\n",
       "      <td>1</td>\n",
       "    </tr>\n",
       "    <tr>\n",
       "      <th>10975</th>\n",
       "      <td>1370038</td>\n",
       "      <td>test</td>\n",
       "      <td>5348.0</td>\n",
       "      <td>1179.0</td>\n",
       "      <td>8</td>\n",
       "    </tr>\n",
       "  </tbody>\n",
       "</table>\n",
       "<p>10840 rows × 5 columns</p>\n",
       "</div>"
      ],
      "text/plain": [
       "       id_client id_group  sum_pay  id_point  months_reg\n",
       "0        1420218     test   3288.0    1199.0           8\n",
       "1        1390221  control   1267.0    1182.0          11\n",
       "2        1363404  control   4259.0    1178.0           2\n",
       "3        1370042     test   7211.0    1179.0           3\n",
       "4        1360376  control    760.0    1178.0          14\n",
       "...          ...      ...      ...       ...         ...\n",
       "10971    1359021  control    799.0    1178.0           3\n",
       "10972    1363347  control   4825.0    1178.0           6\n",
       "10973    1373031     test    673.0    1179.0           1\n",
       "10974    1370292     test   1120.0    1179.0           1\n",
       "10975    1370038     test   5348.0    1179.0           8\n",
       "\n",
       "[10840 rows x 5 columns]"
      ]
     },
     "execution_count": 88,
     "metadata": {},
     "output_type": "execute_result"
    }
   ],
   "source": [
    "df = df[(~df['id_group'].isnull()) & (~df['sum_pay'].isnull()) & (~df['id_point'].isnull())]\n",
    "df"
   ]
  },
  {
   "cell_type": "code",
   "execution_count": 89,
   "id": "3e60cacd",
   "metadata": {},
   "outputs": [
    {
     "name": "stdout",
     "output_type": "stream",
     "text": [
      "Среднее значение  ряда равно 3568.7580258302582\n",
      "Дисперсия ряда равна 8568932.941996625\n",
      "Стандартное отклонение ряда составляет 2927.27397795229\n",
      "\n",
      "Decile number 1.0 = 410.0\n",
      "First quantile = 1250.75\n",
      "Decile number 3.0 = 1590.0\n",
      "Decile number 4.0 = 2329.6000000000004\n",
      "Mediane= 3173.5\n",
      "Decile number 6.0 = 3934.0\n",
      "Third quantile = 5356.5\n",
      "Decile number 9.0 = 7088.200000000001\n",
      "Quantile 0.91 = 7203.0\n",
      "Quantile 0.92 = 7333.880000000001\n",
      "Quantile 0.93 = 7460.27\n",
      "Quantile 0.94 = 7635.66\n",
      "Quantile 0.95 = 7805.0999999999985\n",
      "Quantile 0.96 = 8041.0\n",
      "Quantile 0.97 = 8453.64\n",
      "Quantile 0.98 = 9043.659999999998\n",
      "Quantile 0.99 = 9809.76000000001\n",
      "Quantile 0.995 = 21046.075000000004\n"
     ]
    },
    {
     "data": {
      "text/plain": [
       "(3568.7580258302582,\n",
       " 8568932.941996625,\n",
       " 2927.27397795229,\n",
       " array([  410.   ,  1250.75 ,  1590.   ,  2329.6  ,  3173.5  ,  3934.   ,\n",
       "         5356.5  ,  7088.2  ,  7203.   ,  7333.88 ,  7460.27 ,  7635.66 ,\n",
       "         7805.1  ,  8041.   ,  8453.64 ,  9043.66 ,  9809.76 , 21046.075]))"
      ]
     },
     "execution_count": 89,
     "metadata": {},
     "output_type": "execute_result"
    },
    {
     "data": {
      "image/png": "[encoded data removed]",
      "text/plain": [
       "<Figure size 864x648 with 1 Axes>"
      ]
     },
     "metadata": {},
     "output_type": "display_data"
    }
   ],
   "source": [
    "statistical_analysis(tuple(df['sum_pay']), q)"
   ]
  },
  {
   "cell_type": "code",
   "execution_count": 90,
   "id": "8f645462",
   "metadata": {},
   "outputs": [],
   "source": [
    "df =df[df['sum_pay']<20000]\n"
   ]
  },
  {
   "cell_type": "code",
   "execution_count": 91,
   "id": "07671a14",
   "metadata": {},
   "outputs": [
    {
     "data": {
      "text/html": [
       "<div>\n",
       "<style scoped>\n",
       "    .dataframe tbody tr th:only-of-type {\n",
       "        vertical-align: middle;\n",
       "    }\n",
       "\n",
       "    .dataframe tbody tr th {\n",
       "        vertical-align: top;\n",
       "    }\n",
       "\n",
       "    .dataframe thead th {\n",
       "        text-align: right;\n",
       "    }\n",
       "</style>\n",
       "<table border=\"1\" class=\"dataframe\">\n",
       "  <thead>\n",
       "    <tr style=\"text-align: right;\">\n",
       "      <th></th>\n",
       "      <th></th>\n",
       "      <th>id_client</th>\n",
       "      <th>sum_pay</th>\n",
       "    </tr>\n",
       "    <tr>\n",
       "      <th>id_point</th>\n",
       "      <th>id_group</th>\n",
       "      <th></th>\n",
       "      <th></th>\n",
       "    </tr>\n",
       "  </thead>\n",
       "  <tbody>\n",
       "    <tr>\n",
       "      <th rowspan=\"2\" valign=\"top\">1178.0</th>\n",
       "      <th>control</th>\n",
       "      <td>2403</td>\n",
       "      <td>3036.214732</td>\n",
       "    </tr>\n",
       "    <tr>\n",
       "      <th>test</th>\n",
       "      <td>2406</td>\n",
       "      <td>2936.386949</td>\n",
       "    </tr>\n",
       "    <tr>\n",
       "      <th rowspan=\"2\" valign=\"top\">1179.0</th>\n",
       "      <th>control</th>\n",
       "      <td>1697</td>\n",
       "      <td>3331.310548</td>\n",
       "    </tr>\n",
       "    <tr>\n",
       "      <th>test</th>\n",
       "      <td>1745</td>\n",
       "      <td>3421.826934</td>\n",
       "    </tr>\n",
       "    <tr>\n",
       "      <th rowspan=\"2\" valign=\"top\">1182.0</th>\n",
       "      <th>control</th>\n",
       "      <td>1012</td>\n",
       "      <td>4036.942688</td>\n",
       "    </tr>\n",
       "    <tr>\n",
       "      <th>test</th>\n",
       "      <td>950</td>\n",
       "      <td>4945.129474</td>\n",
       "    </tr>\n",
       "    <tr>\n",
       "      <th rowspan=\"2\" valign=\"top\">1186.0</th>\n",
       "      <th>control</th>\n",
       "      <td>23</td>\n",
       "      <td>4546.000000</td>\n",
       "    </tr>\n",
       "    <tr>\n",
       "      <th>test</th>\n",
       "      <td>40</td>\n",
       "      <td>3638.400000</td>\n",
       "    </tr>\n",
       "    <tr>\n",
       "      <th rowspan=\"2\" valign=\"top\">1188.0</th>\n",
       "      <th>control</th>\n",
       "      <td>5</td>\n",
       "      <td>5202.000000</td>\n",
       "    </tr>\n",
       "    <tr>\n",
       "      <th>test</th>\n",
       "      <td>4</td>\n",
       "      <td>4946.000000</td>\n",
       "    </tr>\n",
       "    <tr>\n",
       "      <th>1199.0</th>\n",
       "      <th>test</th>\n",
       "      <td>476</td>\n",
       "      <td>3908.861345</td>\n",
       "    </tr>\n",
       "  </tbody>\n",
       "</table>\n",
       "</div>"
      ],
      "text/plain": [
       "                   id_client      sum_pay\n",
       "id_point id_group                        \n",
       "1178.0   control        2403  3036.214732\n",
       "         test           2406  2936.386949\n",
       "1179.0   control        1697  3331.310548\n",
       "         test           1745  3421.826934\n",
       "1182.0   control        1012  4036.942688\n",
       "         test            950  4945.129474\n",
       "1186.0   control          23  4546.000000\n",
       "         test             40  3638.400000\n",
       "1188.0   control           5  5202.000000\n",
       "         test              4  4946.000000\n",
       "1199.0   test            476  3908.861345"
      ]
     },
     "execution_count": 91,
     "metadata": {},
     "output_type": "execute_result"
    }
   ],
   "source": [
    "df_pr=df.groupby(['id_point','id_group']).agg({'id_client':'count','sum_pay':'mean'})\n",
    "df_pr"
   ]
  },
  {
   "cell_type": "code",
   "execution_count": 92,
   "id": "45af660f",
   "metadata": {},
   "outputs": [
    {
     "data": {
      "text/html": [
       "<div>\n",
       "<style scoped>\n",
       "    .dataframe tbody tr th:only-of-type {\n",
       "        vertical-align: middle;\n",
       "    }\n",
       "\n",
       "    .dataframe tbody tr th {\n",
       "        vertical-align: top;\n",
       "    }\n",
       "\n",
       "    .dataframe thead th {\n",
       "        text-align: right;\n",
       "    }\n",
       "</style>\n",
       "<table border=\"1\" class=\"dataframe\">\n",
       "  <thead>\n",
       "    <tr style=\"text-align: right;\">\n",
       "      <th></th>\n",
       "      <th>id_client</th>\n",
       "      <th>id_group</th>\n",
       "      <th>sum_pay</th>\n",
       "      <th>id_point</th>\n",
       "      <th>months_reg</th>\n",
       "    </tr>\n",
       "  </thead>\n",
       "  <tbody>\n",
       "    <tr>\n",
       "      <th>2</th>\n",
       "      <td>1363404</td>\n",
       "      <td>control</td>\n",
       "      <td>4259.0</td>\n",
       "      <td>1178.0</td>\n",
       "      <td>2</td>\n",
       "    </tr>\n",
       "    <tr>\n",
       "      <th>3</th>\n",
       "      <td>1370042</td>\n",
       "      <td>test</td>\n",
       "      <td>7211.0</td>\n",
       "      <td>1179.0</td>\n",
       "      <td>3</td>\n",
       "    </tr>\n",
       "    <tr>\n",
       "      <th>4</th>\n",
       "      <td>1360376</td>\n",
       "      <td>control</td>\n",
       "      <td>760.0</td>\n",
       "      <td>1178.0</td>\n",
       "      <td>14</td>\n",
       "    </tr>\n",
       "    <tr>\n",
       "      <th>5</th>\n",
       "      <td>1371160</td>\n",
       "      <td>test</td>\n",
       "      <td>218.0</td>\n",
       "      <td>1179.0</td>\n",
       "      <td>5</td>\n",
       "    </tr>\n",
       "    <tr>\n",
       "      <th>6</th>\n",
       "      <td>1372110</td>\n",
       "      <td>test</td>\n",
       "      <td>1295.0</td>\n",
       "      <td>1179.0</td>\n",
       "      <td>1</td>\n",
       "    </tr>\n",
       "    <tr>\n",
       "      <th>...</th>\n",
       "      <td>...</td>\n",
       "      <td>...</td>\n",
       "      <td>...</td>\n",
       "      <td>...</td>\n",
       "      <td>...</td>\n",
       "    </tr>\n",
       "    <tr>\n",
       "      <th>10971</th>\n",
       "      <td>1359021</td>\n",
       "      <td>control</td>\n",
       "      <td>799.0</td>\n",
       "      <td>1178.0</td>\n",
       "      <td>3</td>\n",
       "    </tr>\n",
       "    <tr>\n",
       "      <th>10972</th>\n",
       "      <td>1363347</td>\n",
       "      <td>control</td>\n",
       "      <td>4825.0</td>\n",
       "      <td>1178.0</td>\n",
       "      <td>6</td>\n",
       "    </tr>\n",
       "    <tr>\n",
       "      <th>10973</th>\n",
       "      <td>1373031</td>\n",
       "      <td>test</td>\n",
       "      <td>673.0</td>\n",
       "      <td>1179.0</td>\n",
       "      <td>1</td>\n",
       "    </tr>\n",
       "    <tr>\n",
       "      <th>10974</th>\n",
       "      <td>1370292</td>\n",
       "      <td>test</td>\n",
       "      <td>1120.0</td>\n",
       "      <td>1179.0</td>\n",
       "      <td>1</td>\n",
       "    </tr>\n",
       "    <tr>\n",
       "      <th>10975</th>\n",
       "      <td>1370038</td>\n",
       "      <td>test</td>\n",
       "      <td>5348.0</td>\n",
       "      <td>1179.0</td>\n",
       "      <td>8</td>\n",
       "    </tr>\n",
       "  </tbody>\n",
       "</table>\n",
       "<p>8251 rows × 5 columns</p>\n",
       "</div>"
      ],
      "text/plain": [
       "       id_client id_group  sum_pay  id_point  months_reg\n",
       "2        1363404  control   4259.0    1178.0           2\n",
       "3        1370042     test   7211.0    1179.0           3\n",
       "4        1360376  control    760.0    1178.0          14\n",
       "5        1371160     test    218.0    1179.0           5\n",
       "6        1372110     test   1295.0    1179.0           1\n",
       "...          ...      ...      ...       ...         ...\n",
       "10971    1359021  control    799.0    1178.0           3\n",
       "10972    1363347  control   4825.0    1178.0           6\n",
       "10973    1373031     test    673.0    1179.0           1\n",
       "10974    1370292     test   1120.0    1179.0           1\n",
       "10975    1370038     test   5348.0    1179.0           8\n",
       "\n",
       "[8251 rows x 5 columns]"
      ]
     },
     "execution_count": 92,
     "metadata": {},
     "output_type": "execute_result"
    }
   ],
   "source": [
    "df = df[~df['id_point'].isin([1182.0,1186.0,1188.0,1199.0])]\n",
    "df"
   ]
  },
  {
   "cell_type": "code",
   "execution_count": 93,
   "id": "a13b77ec",
   "metadata": {},
   "outputs": [
    {
     "data": {
      "text/html": [
       "<div>\n",
       "<style scoped>\n",
       "    .dataframe tbody tr th:only-of-type {\n",
       "        vertical-align: middle;\n",
       "    }\n",
       "\n",
       "    .dataframe tbody tr th {\n",
       "        vertical-align: top;\n",
       "    }\n",
       "\n",
       "    .dataframe thead th {\n",
       "        text-align: right;\n",
       "    }\n",
       "</style>\n",
       "<table border=\"1\" class=\"dataframe\">\n",
       "  <thead>\n",
       "    <tr style=\"text-align: right;\">\n",
       "      <th></th>\n",
       "      <th></th>\n",
       "      <th>id_point</th>\n",
       "      <th>sum_pay</th>\n",
       "    </tr>\n",
       "    <tr>\n",
       "      <th>id_point</th>\n",
       "      <th>id_group</th>\n",
       "      <th></th>\n",
       "      <th></th>\n",
       "    </tr>\n",
       "  </thead>\n",
       "  <tbody>\n",
       "    <tr>\n",
       "      <th rowspan=\"2\" valign=\"top\">1178.0</th>\n",
       "      <th>control</th>\n",
       "      <td>2403</td>\n",
       "      <td>3036.214732</td>\n",
       "    </tr>\n",
       "    <tr>\n",
       "      <th>test</th>\n",
       "      <td>2406</td>\n",
       "      <td>2936.386949</td>\n",
       "    </tr>\n",
       "    <tr>\n",
       "      <th rowspan=\"2\" valign=\"top\">1179.0</th>\n",
       "      <th>control</th>\n",
       "      <td>1697</td>\n",
       "      <td>3331.310548</td>\n",
       "    </tr>\n",
       "    <tr>\n",
       "      <th>test</th>\n",
       "      <td>1745</td>\n",
       "      <td>3421.826934</td>\n",
       "    </tr>\n",
       "  </tbody>\n",
       "</table>\n",
       "</div>"
      ],
      "text/plain": [
       "                   id_point      sum_pay\n",
       "id_point id_group                       \n",
       "1178.0   control       2403  3036.214732\n",
       "         test          2406  2936.386949\n",
       "1179.0   control       1697  3331.310548\n",
       "         test          1745  3421.826934"
      ]
     },
     "execution_count": 93,
     "metadata": {},
     "output_type": "execute_result"
    }
   ],
   "source": [
    "df_pr_1=df.groupby(['id_point','id_group']).agg({'id_point':'count','sum_pay':'mean'})\n",
    "df_pr_1"
   ]
  },
  {
   "cell_type": "code",
   "execution_count": 94,
   "id": "358e90ea",
   "metadata": {},
   "outputs": [
    {
     "data": {
      "text/html": [
       "<div>\n",
       "<style scoped>\n",
       "    .dataframe tbody tr th:only-of-type {\n",
       "        vertical-align: middle;\n",
       "    }\n",
       "\n",
       "    .dataframe tbody tr th {\n",
       "        vertical-align: top;\n",
       "    }\n",
       "\n",
       "    .dataframe thead th {\n",
       "        text-align: right;\n",
       "    }\n",
       "</style>\n",
       "<table border=\"1\" class=\"dataframe\">\n",
       "  <thead>\n",
       "    <tr style=\"text-align: right;\">\n",
       "      <th></th>\n",
       "      <th>id_client</th>\n",
       "      <th>id_group</th>\n",
       "      <th>sum_pay</th>\n",
       "      <th>id_point</th>\n",
       "      <th>months_reg</th>\n",
       "    </tr>\n",
       "  </thead>\n",
       "  <tbody>\n",
       "    <tr>\n",
       "      <th>3</th>\n",
       "      <td>1370042</td>\n",
       "      <td>test</td>\n",
       "      <td>7211.0</td>\n",
       "      <td>1179.0</td>\n",
       "      <td>3</td>\n",
       "    </tr>\n",
       "    <tr>\n",
       "      <th>5</th>\n",
       "      <td>1371160</td>\n",
       "      <td>test</td>\n",
       "      <td>218.0</td>\n",
       "      <td>1179.0</td>\n",
       "      <td>5</td>\n",
       "    </tr>\n",
       "    <tr>\n",
       "      <th>6</th>\n",
       "      <td>1372110</td>\n",
       "      <td>test</td>\n",
       "      <td>1295.0</td>\n",
       "      <td>1179.0</td>\n",
       "      <td>1</td>\n",
       "    </tr>\n",
       "    <tr>\n",
       "      <th>8</th>\n",
       "      <td>1372555</td>\n",
       "      <td>test</td>\n",
       "      <td>4708.0</td>\n",
       "      <td>1179.0</td>\n",
       "      <td>9</td>\n",
       "    </tr>\n",
       "    <tr>\n",
       "      <th>12</th>\n",
       "      <td>1360176</td>\n",
       "      <td>test</td>\n",
       "      <td>701.0</td>\n",
       "      <td>1178.0</td>\n",
       "      <td>1</td>\n",
       "    </tr>\n",
       "    <tr>\n",
       "      <th>...</th>\n",
       "      <td>...</td>\n",
       "      <td>...</td>\n",
       "      <td>...</td>\n",
       "      <td>...</td>\n",
       "      <td>...</td>\n",
       "    </tr>\n",
       "    <tr>\n",
       "      <th>10967</th>\n",
       "      <td>1359429</td>\n",
       "      <td>test</td>\n",
       "      <td>3371.0</td>\n",
       "      <td>1178.0</td>\n",
       "      <td>3</td>\n",
       "    </tr>\n",
       "    <tr>\n",
       "      <th>10968</th>\n",
       "      <td>1359869</td>\n",
       "      <td>test</td>\n",
       "      <td>6590.0</td>\n",
       "      <td>1178.0</td>\n",
       "      <td>5</td>\n",
       "    </tr>\n",
       "    <tr>\n",
       "      <th>10973</th>\n",
       "      <td>1373031</td>\n",
       "      <td>test</td>\n",
       "      <td>673.0</td>\n",
       "      <td>1179.0</td>\n",
       "      <td>1</td>\n",
       "    </tr>\n",
       "    <tr>\n",
       "      <th>10974</th>\n",
       "      <td>1370292</td>\n",
       "      <td>test</td>\n",
       "      <td>1120.0</td>\n",
       "      <td>1179.0</td>\n",
       "      <td>1</td>\n",
       "    </tr>\n",
       "    <tr>\n",
       "      <th>10975</th>\n",
       "      <td>1370038</td>\n",
       "      <td>test</td>\n",
       "      <td>5348.0</td>\n",
       "      <td>1179.0</td>\n",
       "      <td>8</td>\n",
       "    </tr>\n",
       "  </tbody>\n",
       "</table>\n",
       "<p>4151 rows × 5 columns</p>\n",
       "</div>"
      ],
      "text/plain": [
       "       id_client id_group  sum_pay  id_point  months_reg\n",
       "3        1370042     test   7211.0    1179.0           3\n",
       "5        1371160     test    218.0    1179.0           5\n",
       "6        1372110     test   1295.0    1179.0           1\n",
       "8        1372555     test   4708.0    1179.0           9\n",
       "12       1360176     test    701.0    1178.0           1\n",
       "...          ...      ...      ...       ...         ...\n",
       "10967    1359429     test   3371.0    1178.0           3\n",
       "10968    1359869     test   6590.0    1178.0           5\n",
       "10973    1373031     test    673.0    1179.0           1\n",
       "10974    1370292     test   1120.0    1179.0           1\n",
       "10975    1370038     test   5348.0    1179.0           8\n",
       "\n",
       "[4151 rows x 5 columns]"
      ]
     },
     "execution_count": 94,
     "metadata": {},
     "output_type": "execute_result"
    }
   ],
   "source": [
    "df_A = df[df['id_group'] =='control']\n",
    "df_B = df[df['id_group'] == 'test']\n",
    "df_B"
   ]
  },
  {
   "cell_type": "code",
   "execution_count": 95,
   "id": "a30ec36e",
   "metadata": {},
   "outputs": [],
   "source": [
    "def show_hist(r1,r2,graf_title, xlabel ='Размер платежа',ylabel ='Количество платящих'):\n",
    "    sns.set(rc={'figure.figsize':(12,9)})\n",
    "    ax1 = sns.histplot(r1,color = 'red')\n",
    "    ax2 =sns.histplot(r2,color = 'green')\n",
    "    ax1.set(xlabel = xlabel,ylabel = ylabel)\n",
    "    plt.title(graf_title)\n",
    "    plt.show()"
   ]
  },
  {
   "cell_type": "code",
   "execution_count": 96,
   "id": "4ba30743",
   "metadata": {},
   "outputs": [
    {
     "data": {
      "image/png": "[encoded data removed]",
      "text/plain": [
       "<Figure size 864x648 with 1 Axes>"
      ]
     },
     "metadata": {},
     "output_type": "display_data"
    }
   ],
   "source": [
    "show_hist(df_A['sum_pay'],df_B['sum_pay'],'Общие результаты А/В Теста')"
   ]
  },
  {
   "cell_type": "code",
   "execution_count": 97,
   "id": "a4366176",
   "metadata": {},
   "outputs": [
    {
     "name": "stdout",
     "output_type": "stream",
     "text": [
      "Распределения не равны\n"
     ]
    },
    {
     "data": {
      "text/plain": [
       "(8796165.0, 0.008064448959216566)"
      ]
     },
     "execution_count": 97,
     "metadata": {},
     "output_type": "execute_result"
    }
   ],
   "source": [
    "mann_whitney_func(df_A['sum_pay'],df_B['sum_pay'])"
   ]
  },
  {
   "cell_type": "code",
   "execution_count": 98,
   "id": "26e974d0",
   "metadata": {},
   "outputs": [
    {
     "name": "stdout",
     "output_type": "stream",
     "text": [
      "Гипотеза Н0 подтверждается:средние равны\n",
      "Разница средних = 0\n"
     ]
    },
    {
     "data": {
      "text/plain": [
       "(0.35179893746829694, 0.7249980414572215)"
      ]
     },
     "execution_count": 98,
     "metadata": {},
     "output_type": "execute_result"
    }
   ],
   "source": [
    "test_calc(df_A['sum_pay'],df_B['sum_pay'])"
   ]
  },
  {
   "cell_type": "code",
   "execution_count": 99,
   "id": "43fe8400",
   "metadata": {},
   "outputs": [
    {
     "name": "stdout",
     "output_type": "stream",
     "text": [
      "Анализ точки 1178.0\n"
     ]
    },
    {
     "data": {
      "image/png": "[encoded data removed]",
      "text/plain": [
       "<Figure size 864x648 with 1 Axes>"
      ]
     },
     "metadata": {},
     "output_type": "display_data"
    },
    {
     "name": "stdout",
     "output_type": "stream",
     "text": [
      "Гипотеза Н0 подтверждается:средние равны\n",
      "Разница средних = 0\n",
      "\n",
      "Распределения не равны\n",
      "\n",
      "Анализ точки 1179.0\n"
     ]
    },
    {
     "data": {
      "image/png": "[encoded data removed]",
      "text/plain": [
       "<Figure size 864x648 with 1 Axes>"
      ]
     },
     "metadata": {},
     "output_type": "display_data"
    },
    {
     "name": "stdout",
     "output_type": "stream",
     "text": [
      "Гипотеза Н0 подтверждается:средние равны\n",
      "Разница средних = 0\n",
      "\n",
      "Распределения равны\n",
      "\n"
     ]
    }
   ],
   "source": [
    "for i in df.id_point.unique():\n",
    "    print ('Анализ точки',i)\n",
    "    df_loc_A = df_A[df_A['id_point']==i]\n",
    "    df_loc_B = df_B[df_B['id_point']==i]\n",
    "    \n",
    "    title_loc = 'Результаты А/В Теста в точке'+ str(i)\n",
    "    \n",
    "    show_hist(df_loc_A['sum_pay'],df_loc_B['sum_pay'],title_loc)\n",
    "    \n",
    "    test_calc(df_loc_A['sum_pay'],df_loc_B['sum_pay'])\n",
    "    print()\n",
    "    \n",
    "    mann_whitney_func(df_loc_A['sum_pay'],df_loc_B['sum_pay'])\n",
    "    print()\n",
    "    \n",
    "    \n",
    "    \n",
    "    "
   ]
  },
  {
   "cell_type": "code",
   "execution_count": 100,
   "id": "0c84e94c",
   "metadata": {},
   "outputs": [],
   "source": [
    "from scipy.stats import pearsonr\n",
    "from scipy.stats import spearmanr"
   ]
  },
  {
   "cell_type": "code",
   "execution_count": 101,
   "id": "35c30e01",
   "metadata": {},
   "outputs": [
    {
     "name": "stderr",
     "output_type": "stream",
     "text": [
      "C:\\Phiton\\anaconda3\\lib\\site-packages\\seaborn\\_decorators.py:36: FutureWarning: Pass the following variables as keyword args: x, y. From version 0.12, the only valid positional argument will be `data`, and passing other arguments without an explicit keyword will result in an error or misinterpretation.\n",
      "  warnings.warn(\n"
     ]
    },
    {
     "data": {
      "text/plain": [
       "Text(0.5, 1.0, 'Корреляция размера платежа и длительности регистрации клиента')"
      ]
     },
     "execution_count": 101,
     "metadata": {},
     "output_type": "execute_result"
    },
    {
     "data": {
      "image/png": "[encoded data removed]",
      "text/plain": [
       "<Figure size 864x648 with 1 Axes>"
      ]
     },
     "metadata": {},
     "output_type": "display_data"
    }
   ],
   "source": [
    "sns.scatterplot(df['sum_pay'],df['months_reg']).set_title(\"Корреляция размера платежа и длительности регистрации клиента\")"
   ]
  },
  {
   "cell_type": "code",
   "execution_count": 102,
   "id": "8a56e05b",
   "metadata": {},
   "outputs": [
    {
     "name": "stdout",
     "output_type": "stream",
     "text": [
      "Pearson (0.5965398353117899, 0.0)\n",
      "Spearman SpearmanrResult(correlation=0.6500786938230178, pvalue=0.0)\n"
     ]
    }
   ],
   "source": [
    "print('Pearson',pearsonr(df['sum_pay'],df['months_reg']))\n",
    "print ('Spearman',spearmanr(df['sum_pay'],df['months_reg']))"
   ]
  },
  {
   "cell_type": "code",
   "execution_count": 103,
   "id": "33e3dd5d",
   "metadata": {},
   "outputs": [
    {
     "data": {
      "text/plain": [
       "<AxesSubplot:xlabel='months_reg'>"
      ]
     },
     "execution_count": 103,
     "metadata": {},
     "output_type": "execute_result"
    },
    {
     "data": {
      "image/png": "[encoded data removed]",
      "text/plain": [
       "<Figure size 864x648 with 1 Axes>"
      ]
     },
     "metadata": {},
     "output_type": "display_data"
    }
   ],
   "source": [
    "df.groupby('months_reg')['id_client'].count().plot(kind ='bar',color = 'green')"
   ]
  },
  {
   "cell_type": "code",
   "execution_count": 104,
   "id": "e3cbaf58",
   "metadata": {},
   "outputs": [
    {
     "data": {
      "text/html": [
       "<div>\n",
       "<style scoped>\n",
       "    .dataframe tbody tr th:only-of-type {\n",
       "        vertical-align: middle;\n",
       "    }\n",
       "\n",
       "    .dataframe tbody tr th {\n",
       "        vertical-align: top;\n",
       "    }\n",
       "\n",
       "    .dataframe thead th {\n",
       "        text-align: right;\n",
       "    }\n",
       "</style>\n",
       "<table border=\"1\" class=\"dataframe\">\n",
       "  <thead>\n",
       "    <tr style=\"text-align: right;\">\n",
       "      <th></th>\n",
       "      <th>id_client</th>\n",
       "      <th>id_group</th>\n",
       "      <th>sum_pay</th>\n",
       "      <th>id_point</th>\n",
       "      <th>months_reg</th>\n",
       "    </tr>\n",
       "  </thead>\n",
       "  <tbody>\n",
       "    <tr>\n",
       "      <th>2</th>\n",
       "      <td>1363404</td>\n",
       "      <td>control</td>\n",
       "      <td>4259.0</td>\n",
       "      <td>1178.0</td>\n",
       "      <td>2</td>\n",
       "    </tr>\n",
       "    <tr>\n",
       "      <th>3</th>\n",
       "      <td>1370042</td>\n",
       "      <td>test</td>\n",
       "      <td>7211.0</td>\n",
       "      <td>1179.0</td>\n",
       "      <td>3</td>\n",
       "    </tr>\n",
       "    <tr>\n",
       "      <th>4</th>\n",
       "      <td>1360376</td>\n",
       "      <td>control</td>\n",
       "      <td>760.0</td>\n",
       "      <td>1178.0</td>\n",
       "      <td>14</td>\n",
       "    </tr>\n",
       "    <tr>\n",
       "      <th>5</th>\n",
       "      <td>1371160</td>\n",
       "      <td>test</td>\n",
       "      <td>218.0</td>\n",
       "      <td>1179.0</td>\n",
       "      <td>5</td>\n",
       "    </tr>\n",
       "    <tr>\n",
       "      <th>6</th>\n",
       "      <td>1372110</td>\n",
       "      <td>test</td>\n",
       "      <td>1295.0</td>\n",
       "      <td>1179.0</td>\n",
       "      <td>1</td>\n",
       "    </tr>\n",
       "    <tr>\n",
       "      <th>...</th>\n",
       "      <td>...</td>\n",
       "      <td>...</td>\n",
       "      <td>...</td>\n",
       "      <td>...</td>\n",
       "      <td>...</td>\n",
       "    </tr>\n",
       "    <tr>\n",
       "      <th>10971</th>\n",
       "      <td>1359021</td>\n",
       "      <td>control</td>\n",
       "      <td>799.0</td>\n",
       "      <td>1178.0</td>\n",
       "      <td>3</td>\n",
       "    </tr>\n",
       "    <tr>\n",
       "      <th>10972</th>\n",
       "      <td>1363347</td>\n",
       "      <td>control</td>\n",
       "      <td>4825.0</td>\n",
       "      <td>1178.0</td>\n",
       "      <td>6</td>\n",
       "    </tr>\n",
       "    <tr>\n",
       "      <th>10973</th>\n",
       "      <td>1373031</td>\n",
       "      <td>test</td>\n",
       "      <td>673.0</td>\n",
       "      <td>1179.0</td>\n",
       "      <td>1</td>\n",
       "    </tr>\n",
       "    <tr>\n",
       "      <th>10974</th>\n",
       "      <td>1370292</td>\n",
       "      <td>test</td>\n",
       "      <td>1120.0</td>\n",
       "      <td>1179.0</td>\n",
       "      <td>1</td>\n",
       "    </tr>\n",
       "    <tr>\n",
       "      <th>10975</th>\n",
       "      <td>1370038</td>\n",
       "      <td>test</td>\n",
       "      <td>5348.0</td>\n",
       "      <td>1179.0</td>\n",
       "      <td>8</td>\n",
       "    </tr>\n",
       "  </tbody>\n",
       "</table>\n",
       "<p>8251 rows × 5 columns</p>\n",
       "</div>"
      ],
      "text/plain": [
       "       id_client id_group  sum_pay  id_point  months_reg\n",
       "2        1363404  control   4259.0    1178.0           2\n",
       "3        1370042     test   7211.0    1179.0           3\n",
       "4        1360376  control    760.0    1178.0          14\n",
       "5        1371160     test    218.0    1179.0           5\n",
       "6        1372110     test   1295.0    1179.0           1\n",
       "...          ...      ...      ...       ...         ...\n",
       "10971    1359021  control    799.0    1178.0           3\n",
       "10972    1363347  control   4825.0    1178.0           6\n",
       "10973    1373031     test    673.0    1179.0           1\n",
       "10974    1370292     test   1120.0    1179.0           1\n",
       "10975    1370038     test   5348.0    1179.0           8\n",
       "\n",
       "[8251 rows x 5 columns]"
      ]
     },
     "execution_count": 104,
     "metadata": {},
     "output_type": "execute_result"
    }
   ],
   "source": [
    "df = df[~df['id_point'].isin([1186.0,1188.0,1199.0])]\n",
    "df"
   ]
  },
  {
   "cell_type": "code",
   "execution_count": 105,
   "id": "37f33ccd",
   "metadata": {},
   "outputs": [
    {
     "data": {
      "text/html": [
       "<div>\n",
       "<style scoped>\n",
       "    .dataframe tbody tr th:only-of-type {\n",
       "        vertical-align: middle;\n",
       "    }\n",
       "\n",
       "    .dataframe tbody tr th {\n",
       "        vertical-align: top;\n",
       "    }\n",
       "\n",
       "    .dataframe thead th {\n",
       "        text-align: right;\n",
       "    }\n",
       "</style>\n",
       "<table border=\"1\" class=\"dataframe\">\n",
       "  <thead>\n",
       "    <tr style=\"text-align: right;\">\n",
       "      <th></th>\n",
       "      <th>id_client</th>\n",
       "      <th>id_group</th>\n",
       "      <th>sum_pay</th>\n",
       "      <th>id_point</th>\n",
       "      <th>months_reg</th>\n",
       "    </tr>\n",
       "  </thead>\n",
       "  <tbody>\n",
       "    <tr>\n",
       "      <th>3</th>\n",
       "      <td>1370042</td>\n",
       "      <td>test</td>\n",
       "      <td>7211.0</td>\n",
       "      <td>1179.0</td>\n",
       "      <td>3</td>\n",
       "    </tr>\n",
       "    <tr>\n",
       "      <th>8</th>\n",
       "      <td>1372555</td>\n",
       "      <td>test</td>\n",
       "      <td>4708.0</td>\n",
       "      <td>1179.0</td>\n",
       "      <td>9</td>\n",
       "    </tr>\n",
       "    <tr>\n",
       "      <th>11</th>\n",
       "      <td>1373217</td>\n",
       "      <td>control</td>\n",
       "      <td>297.0</td>\n",
       "      <td>1179.0</td>\n",
       "      <td>9</td>\n",
       "    </tr>\n",
       "    <tr>\n",
       "      <th>16</th>\n",
       "      <td>1373123</td>\n",
       "      <td>control</td>\n",
       "      <td>4024.0</td>\n",
       "      <td>1179.0</td>\n",
       "      <td>12</td>\n",
       "    </tr>\n",
       "    <tr>\n",
       "      <th>17</th>\n",
       "      <td>1372215</td>\n",
       "      <td>control</td>\n",
       "      <td>5878.0</td>\n",
       "      <td>1179.0</td>\n",
       "      <td>6</td>\n",
       "    </tr>\n",
       "    <tr>\n",
       "      <th>...</th>\n",
       "      <td>...</td>\n",
       "      <td>...</td>\n",
       "      <td>...</td>\n",
       "      <td>...</td>\n",
       "      <td>...</td>\n",
       "    </tr>\n",
       "    <tr>\n",
       "      <th>10948</th>\n",
       "      <td>1372160</td>\n",
       "      <td>test</td>\n",
       "      <td>4590.0</td>\n",
       "      <td>1179.0</td>\n",
       "      <td>6</td>\n",
       "    </tr>\n",
       "    <tr>\n",
       "      <th>10955</th>\n",
       "      <td>1371136</td>\n",
       "      <td>test</td>\n",
       "      <td>5223.0</td>\n",
       "      <td>1179.0</td>\n",
       "      <td>3</td>\n",
       "    </tr>\n",
       "    <tr>\n",
       "      <th>10967</th>\n",
       "      <td>1359429</td>\n",
       "      <td>test</td>\n",
       "      <td>3371.0</td>\n",
       "      <td>1178.0</td>\n",
       "      <td>3</td>\n",
       "    </tr>\n",
       "    <tr>\n",
       "      <th>10971</th>\n",
       "      <td>1359021</td>\n",
       "      <td>control</td>\n",
       "      <td>799.0</td>\n",
       "      <td>1178.0</td>\n",
       "      <td>3</td>\n",
       "    </tr>\n",
       "    <tr>\n",
       "      <th>10972</th>\n",
       "      <td>1363347</td>\n",
       "      <td>control</td>\n",
       "      <td>4825.0</td>\n",
       "      <td>1178.0</td>\n",
       "      <td>6</td>\n",
       "    </tr>\n",
       "  </tbody>\n",
       "</table>\n",
       "<p>2643 rows × 5 columns</p>\n",
       "</div>"
      ],
      "text/plain": [
       "       id_client id_group  sum_pay  id_point  months_reg\n",
       "3        1370042     test   7211.0    1179.0           3\n",
       "8        1372555     test   4708.0    1179.0           9\n",
       "11       1373217  control    297.0    1179.0           9\n",
       "16       1373123  control   4024.0    1179.0          12\n",
       "17       1372215  control   5878.0    1179.0           6\n",
       "...          ...      ...      ...       ...         ...\n",
       "10948    1372160     test   4590.0    1179.0           6\n",
       "10955    1371136     test   5223.0    1179.0           3\n",
       "10967    1359429     test   3371.0    1178.0           3\n",
       "10971    1359021  control    799.0    1178.0           3\n",
       "10972    1363347  control   4825.0    1178.0           6\n",
       "\n",
       "[2643 rows x 5 columns]"
      ]
     },
     "execution_count": 105,
     "metadata": {},
     "output_type": "execute_result"
    }
   ],
   "source": [
    "df_2_point = df[df['months_reg'].isin([3,6,9,12,13])]\n",
    "df_2_point"
   ]
  },
  {
   "cell_type": "code",
   "execution_count": 106,
   "id": "d75bf826",
   "metadata": {},
   "outputs": [
    {
     "data": {
      "text/html": [
       "<div>\n",
       "<style scoped>\n",
       "    .dataframe tbody tr th:only-of-type {\n",
       "        vertical-align: middle;\n",
       "    }\n",
       "\n",
       "    .dataframe tbody tr th {\n",
       "        vertical-align: top;\n",
       "    }\n",
       "\n",
       "    .dataframe thead th {\n",
       "        text-align: right;\n",
       "    }\n",
       "</style>\n",
       "<table border=\"1\" class=\"dataframe\">\n",
       "  <thead>\n",
       "    <tr style=\"text-align: right;\">\n",
       "      <th></th>\n",
       "      <th>id_point</th>\n",
       "      <th>months_reg</th>\n",
       "      <th>sum_pay</th>\n",
       "      <th>id_group</th>\n",
       "    </tr>\n",
       "  </thead>\n",
       "  <tbody>\n",
       "    <tr>\n",
       "      <th>3</th>\n",
       "      <td>1179.0</td>\n",
       "      <td>3</td>\n",
       "      <td>7211.0</td>\n",
       "      <td>test</td>\n",
       "    </tr>\n",
       "    <tr>\n",
       "      <th>8</th>\n",
       "      <td>1179.0</td>\n",
       "      <td>9</td>\n",
       "      <td>4708.0</td>\n",
       "      <td>test</td>\n",
       "    </tr>\n",
       "    <tr>\n",
       "      <th>11</th>\n",
       "      <td>1179.0</td>\n",
       "      <td>9</td>\n",
       "      <td>297.0</td>\n",
       "      <td>control</td>\n",
       "    </tr>\n",
       "    <tr>\n",
       "      <th>16</th>\n",
       "      <td>1179.0</td>\n",
       "      <td>12</td>\n",
       "      <td>4024.0</td>\n",
       "      <td>control</td>\n",
       "    </tr>\n",
       "    <tr>\n",
       "      <th>17</th>\n",
       "      <td>1179.0</td>\n",
       "      <td>6</td>\n",
       "      <td>5878.0</td>\n",
       "      <td>control</td>\n",
       "    </tr>\n",
       "    <tr>\n",
       "      <th>...</th>\n",
       "      <td>...</td>\n",
       "      <td>...</td>\n",
       "      <td>...</td>\n",
       "      <td>...</td>\n",
       "    </tr>\n",
       "    <tr>\n",
       "      <th>10948</th>\n",
       "      <td>1179.0</td>\n",
       "      <td>6</td>\n",
       "      <td>4590.0</td>\n",
       "      <td>test</td>\n",
       "    </tr>\n",
       "    <tr>\n",
       "      <th>10955</th>\n",
       "      <td>1179.0</td>\n",
       "      <td>3</td>\n",
       "      <td>5223.0</td>\n",
       "      <td>test</td>\n",
       "    </tr>\n",
       "    <tr>\n",
       "      <th>10967</th>\n",
       "      <td>1178.0</td>\n",
       "      <td>3</td>\n",
       "      <td>3371.0</td>\n",
       "      <td>test</td>\n",
       "    </tr>\n",
       "    <tr>\n",
       "      <th>10971</th>\n",
       "      <td>1178.0</td>\n",
       "      <td>3</td>\n",
       "      <td>799.0</td>\n",
       "      <td>control</td>\n",
       "    </tr>\n",
       "    <tr>\n",
       "      <th>10972</th>\n",
       "      <td>1178.0</td>\n",
       "      <td>6</td>\n",
       "      <td>4825.0</td>\n",
       "      <td>control</td>\n",
       "    </tr>\n",
       "  </tbody>\n",
       "</table>\n",
       "<p>2643 rows × 4 columns</p>\n",
       "</div>"
      ],
      "text/plain": [
       "       id_point  months_reg  sum_pay id_group\n",
       "3        1179.0           3   7211.0     test\n",
       "8        1179.0           9   4708.0     test\n",
       "11       1179.0           9    297.0  control\n",
       "16       1179.0          12   4024.0  control\n",
       "17       1179.0           6   5878.0  control\n",
       "...         ...         ...      ...      ...\n",
       "10948    1179.0           6   4590.0     test\n",
       "10955    1179.0           3   5223.0     test\n",
       "10967    1178.0           3   3371.0     test\n",
       "10971    1178.0           3    799.0  control\n",
       "10972    1178.0           6   4825.0  control\n",
       "\n",
       "[2643 rows x 4 columns]"
      ]
     },
     "execution_count": 106,
     "metadata": {},
     "output_type": "execute_result"
    }
   ],
   "source": [
    "df_2_point_slip = df_2_point[['id_point','months_reg','sum_pay','id_group']]\n",
    "df_2_point_slip"
   ]
  },
  {
   "cell_type": "code",
   "execution_count": 107,
   "id": "a7d902ee",
   "metadata": {},
   "outputs": [
    {
     "data": {
      "text/html": [
       "<div>\n",
       "<style scoped>\n",
       "    .dataframe tbody tr th:only-of-type {\n",
       "        vertical-align: middle;\n",
       "    }\n",
       "\n",
       "    .dataframe tbody tr th {\n",
       "        vertical-align: top;\n",
       "    }\n",
       "\n",
       "    .dataframe thead th {\n",
       "        text-align: right;\n",
       "    }\n",
       "</style>\n",
       "<table border=\"1\" class=\"dataframe\">\n",
       "  <thead>\n",
       "    <tr style=\"text-align: right;\">\n",
       "      <th></th>\n",
       "      <th>id_point</th>\n",
       "      <th>months_reg</th>\n",
       "      <th>sum_pay</th>\n",
       "      <th>id_group</th>\n",
       "    </tr>\n",
       "  </thead>\n",
       "  <tbody>\n",
       "    <tr>\n",
       "      <th>3</th>\n",
       "      <td>1179.0</td>\n",
       "      <td>3</td>\n",
       "      <td>7211.0</td>\n",
       "      <td>test</td>\n",
       "    </tr>\n",
       "    <tr>\n",
       "      <th>8</th>\n",
       "      <td>1179.0</td>\n",
       "      <td>9</td>\n",
       "      <td>4708.0</td>\n",
       "      <td>test</td>\n",
       "    </tr>\n",
       "    <tr>\n",
       "      <th>11</th>\n",
       "      <td>1179.0</td>\n",
       "      <td>9</td>\n",
       "      <td>297.0</td>\n",
       "      <td>control</td>\n",
       "    </tr>\n",
       "    <tr>\n",
       "      <th>16</th>\n",
       "      <td>1179.0</td>\n",
       "      <td>12</td>\n",
       "      <td>4024.0</td>\n",
       "      <td>control</td>\n",
       "    </tr>\n",
       "    <tr>\n",
       "      <th>17</th>\n",
       "      <td>1179.0</td>\n",
       "      <td>6</td>\n",
       "      <td>5878.0</td>\n",
       "      <td>control</td>\n",
       "    </tr>\n",
       "    <tr>\n",
       "      <th>...</th>\n",
       "      <td>...</td>\n",
       "      <td>...</td>\n",
       "      <td>...</td>\n",
       "      <td>...</td>\n",
       "    </tr>\n",
       "    <tr>\n",
       "      <th>10948</th>\n",
       "      <td>1179.0</td>\n",
       "      <td>6</td>\n",
       "      <td>4590.0</td>\n",
       "      <td>test</td>\n",
       "    </tr>\n",
       "    <tr>\n",
       "      <th>10955</th>\n",
       "      <td>1179.0</td>\n",
       "      <td>3</td>\n",
       "      <td>5223.0</td>\n",
       "      <td>test</td>\n",
       "    </tr>\n",
       "    <tr>\n",
       "      <th>10967</th>\n",
       "      <td>1178.0</td>\n",
       "      <td>3</td>\n",
       "      <td>3371.0</td>\n",
       "      <td>test</td>\n",
       "    </tr>\n",
       "    <tr>\n",
       "      <th>10971</th>\n",
       "      <td>1178.0</td>\n",
       "      <td>3</td>\n",
       "      <td>799.0</td>\n",
       "      <td>control</td>\n",
       "    </tr>\n",
       "    <tr>\n",
       "      <th>10972</th>\n",
       "      <td>1178.0</td>\n",
       "      <td>6</td>\n",
       "      <td>4825.0</td>\n",
       "      <td>control</td>\n",
       "    </tr>\n",
       "  </tbody>\n",
       "</table>\n",
       "<p>2643 rows × 4 columns</p>\n",
       "</div>"
      ],
      "text/plain": [
       "       id_point  months_reg  sum_pay id_group\n",
       "3        1179.0           3   7211.0     test\n",
       "8        1179.0           9   4708.0     test\n",
       "11       1179.0           9    297.0  control\n",
       "16       1179.0          12   4024.0  control\n",
       "17       1179.0           6   5878.0  control\n",
       "...         ...         ...      ...      ...\n",
       "10948    1179.0           6   4590.0     test\n",
       "10955    1179.0           3   5223.0     test\n",
       "10967    1178.0           3   3371.0     test\n",
       "10971    1178.0           3    799.0  control\n",
       "10972    1178.0           6   4825.0  control\n",
       "\n",
       "[2643 rows x 4 columns]"
      ]
     },
     "execution_count": 107,
     "metadata": {},
     "output_type": "execute_result"
    }
   ],
   "source": [
    "df_finish = df_2_point_slip\n",
    "\n",
    "df_finish"
   ]
  },
  {
   "cell_type": "code",
   "execution_count": 108,
   "id": "c446348d",
   "metadata": {},
   "outputs": [],
   "source": [
    "df_finish_A = df_finish[df_finish['id_group'] =='control']\n",
    "df_finish_B = df_finish[df_finish['id_group'] == 'test']\n"
   ]
  },
  {
   "cell_type": "code",
   "execution_count": 109,
   "id": "b3757e48",
   "metadata": {},
   "outputs": [],
   "source": [
    "df_finish_A = df_finish_A[['id_point','months_reg','sum_pay']]\n",
    "df_finish_B = df_finish_B[['id_point','months_reg','sum_pay']]\n"
   ]
  },
  {
   "cell_type": "code",
   "execution_count": 110,
   "id": "ec95188c",
   "metadata": {},
   "outputs": [],
   "source": [
    "def show_hist(r1,r2,graf_title, xlabel ='Длительность регистрации',ylabel ='Количество платящих'):\n",
    "    sns.set(rc={'figure.figsize':(12,9)})\n",
    "    ax1 = sns.histplot(r1,color = 'red')\n",
    "    ax2 =sns.histplot(r2,color = 'green')\n",
    "    ax1.set(xlabel = xlabel,ylabel = ylabel)\n",
    "    plt.title(graf_title)\n",
    "    plt.show()"
   ]
  },
  {
   "cell_type": "code",
   "execution_count": 111,
   "id": "3e585fce",
   "metadata": {},
   "outputs": [
    {
     "data": {
      "image/png": "[encoded data removed]",
      "text/plain": [
       "<Figure size 864x648 with 1 Axes>"
      ]
     },
     "metadata": {},
     "output_type": "display_data"
    }
   ],
   "source": [
    "show_hist(df_finish_A['months_reg'],df_finish_B['months_reg'],'Общие результаты А/В Теста по 2 точкам')"
   ]
  },
  {
   "cell_type": "code",
   "execution_count": 112,
   "id": "fe6ddf79",
   "metadata": {},
   "outputs": [
    {
     "name": "stdout",
     "output_type": "stream",
     "text": [
      "Анализ точки 1179.0\n"
     ]
    },
    {
     "data": {
      "image/png": "[encoded data removed]",
      "text/plain": [
       "<Figure size 864x648 with 1 Axes>"
      ]
     },
     "metadata": {},
     "output_type": "display_data"
    },
    {
     "name": "stdout",
     "output_type": "stream",
     "text": [
      "Анализ точки 1178.0\n"
     ]
    },
    {
     "data": {
      "image/png": "[encoded data removed]",
      "text/plain": [
       "<Figure size 864x648 with 1 Axes>"
      ]
     },
     "metadata": {},
     "output_type": "display_data"
    }
   ],
   "source": [
    "for i in df_finish.id_point.unique():\n",
    "    print ('Анализ точки',i)\n",
    "    df_loc_A = df_finish_A[df_finish_A['id_point']==i]\n",
    "    df_loc_B = df_finish_B[df_finish_B['id_point']==i]\n",
    "    \n",
    "    title_loc = 'Результаты А/В Теста в точке'+ str(i)\n",
    "    \n",
    "    show_hist(df_loc_A['months_reg'],df_loc_B['months_reg'],title_loc)\n",
    "    \n",
    "    \n",
    "    "
   ]
  },
  {
   "cell_type": "code",
   "execution_count": 113,
   "id": "0dfee40e",
   "metadata": {},
   "outputs": [],
   "source": [
    "df_finish = df_finish.groupby(['months_reg','id_point','id_group'])['sum_pay'].mean().reset_index()\n"
   ]
  },
  {
   "cell_type": "code",
   "execution_count": 114,
   "id": "a4105aff",
   "metadata": {},
   "outputs": [],
   "source": [
    "df_finish_control = df_finish[df_finish['id_group'] =='control']\n",
    "df_finish_test = df_finish[df_finish['id_group'] == 'test']"
   ]
  },
  {
   "cell_type": "code",
   "execution_count": 116,
   "id": "90549e9f",
   "metadata": {},
   "outputs": [
    {
     "name": "stdout",
     "output_type": "stream",
     "text": [
      "Анализ точки 1178.0\n"
     ]
    },
    {
     "data": {
      "image/png": "[encoded data removed]",
      "text/plain": [
       "<Figure size 720x360 with 1 Axes>"
      ]
     },
     "metadata": {},
     "output_type": "display_data"
    },
    {
     "name": "stdout",
     "output_type": "stream",
     "text": [
      "Анализ точки 1179.0\n"
     ]
    },
    {
     "data": {
      "image/png": "[encoded data removed]",
      "text/plain": [
       "<Figure size 720x360 with 1 Axes>"
      ]
     },
     "metadata": {},
     "output_type": "display_data"
    }
   ],
   "source": [
    "for i in df_finish.id_point.unique():\n",
    "    print ('Анализ точки',i)\n",
    "    df_loc_A = df_finish_control[df_finish_control['id_point']==i]\n",
    "    df_loc_B = df_finish_test[df_finish_test['id_point']==i]\n",
    "   \n",
    "\n",
    "    plt.figure(figsize=(10, 5))  \n",
    "    plt.title('Величина среднего чека в зависимости от времени регистрации покупателя') \n",
    "    plt.xlabel('Время регистрации') \n",
    "    plt.ylabel('Средний чек') \n",
    "\n",
    "\n",
    "\n",
    "    plt.plot(df_loc_A['months_reg'],\n",
    "             df_loc_A['sum_pay'],\n",
    "             color='red',\n",
    "             linestyle = '-.',\n",
    "             linewidth=3) \n",
    "\n",
    "\n",
    "    plt.plot(df_loc_B['months_reg'],\n",
    "             df_loc_B ['sum_pay'],\n",
    "             color='green',             \n",
    "             linewidth=2\n",
    "            )\n",
    "\n",
    "\n",
    "    plt.show()\n"
   ]
  },
  {
   "cell_type": "code",
   "execution_count": null,
   "id": "3ccb0574",
   "metadata": {},
   "outputs": [],
   "source": []
  },
  {
   "cell_type": "code",
   "execution_count": null,
   "id": "35141d8f",
   "metadata": {},
   "outputs": [],
   "source": []
  }
 ],
 "metadata": {
  "kernelspec": {
   "display_name": "Python 3 (ipykernel)",
   "language": "python",
   "name": "python3"
  },
  "language_info": {
   "codemirror_mode": {
    "name": "ipython",
    "version": 3
   },
   "file_extension": ".py",
   "mimetype": "text/x-python",
   "name": "python",
   "nbconvert_exporter": "python",
   "pygments_lexer": "ipython3",
   "version": "3.9.12"
  }
 },
 "nbformat": 4,
 "nbformat_minor": 5
}
